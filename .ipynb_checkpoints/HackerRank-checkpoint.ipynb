{
 "cells": [
  {
   "cell_type": "markdown",
   "metadata": {},
   "source": [
    "# Introduction "
   ]
  },
  {
   "cell_type": "markdown",
   "metadata": {},
   "source": [
    "## Python Division\n",
    "Read two integers a,b and output:\n",
    "* /$a//b$ and \n",
    "* $a/b$ \n",
    "\n",
    "on two seperate lines"
   ]
  },
  {
   "cell_type": "code",
   "execution_count": 1,
   "metadata": {
    "collapsed": false
   },
   "outputs": [
    {
     "name": "stdout",
     "output_type": "stream",
     "text": [
      "10\n",
      "10\n",
      "1\n",
      "1.0\n"
     ]
    }
   ],
   "source": [
    "if __name__ == '__main__':\n",
    "    a=int(input())\n",
    "    b=int(input())\n",
    "    \n",
    "    print(str(a//b) + \"\\n\" + str(a/b))"
   ]
  },
  {
   "cell_type": "markdown",
   "metadata": {},
   "source": [
    "## Loops\n",
    "Read an integer $N$ and for all non-negative integers $i < N$, print $i^2$.\n",
    "Do this with the constraint that $1 \\leq N \\leq 20$"
   ]
  },
  {
   "cell_type": "code",
   "execution_count": 11,
   "metadata": {
    "collapsed": false
   },
   "outputs": [
    {
     "name": "stdout",
     "output_type": "stream",
     "text": [
      "2.5\n"
     ]
    },
    {
     "ename": "ValueError",
     "evalue": "invalid literal for int() with base 10: '2.5'",
     "output_type": "error",
     "traceback": [
      "\u001b[0;31m---------------------------------------------------------------------------\u001b[0m",
      "\u001b[0;31mValueError\u001b[0m                                Traceback (most recent call last)",
      "\u001b[0;32m<ipython-input-11-83bdc78dc08b>\u001b[0m in \u001b[0;36m<module>\u001b[0;34m()\u001b[0m\n\u001b[1;32m      1\u001b[0m \u001b[0;32mif\u001b[0m \u001b[0m__name__\u001b[0m \u001b[0;34m==\u001b[0m\u001b[0;34m'__main__'\u001b[0m\u001b[0;34m:\u001b[0m\u001b[0;34m\u001b[0m\u001b[0m\n\u001b[0;32m----> 2\u001b[0;31m     \u001b[0ma\u001b[0m \u001b[0;34m=\u001b[0m \u001b[0mint\u001b[0m\u001b[0;34m(\u001b[0m\u001b[0minput\u001b[0m\u001b[0;34m(\u001b[0m\u001b[0;34m)\u001b[0m\u001b[0;34m)\u001b[0m\u001b[0;34m\u001b[0m\u001b[0m\n\u001b[0m\u001b[1;32m      3\u001b[0m \u001b[0;34m\u001b[0m\u001b[0m\n\u001b[1;32m      4\u001b[0m     \u001b[0;32mif\u001b[0m \u001b[0;36m1\u001b[0m\u001b[0;34m<=\u001b[0m \u001b[0ma\u001b[0m \u001b[0;34m<=\u001b[0m \u001b[0;36m20\u001b[0m\u001b[0;34m:\u001b[0m\u001b[0;34m\u001b[0m\u001b[0m\n\u001b[1;32m      5\u001b[0m         \u001b[0;32mfor\u001b[0m \u001b[0mi\u001b[0m \u001b[0;32min\u001b[0m \u001b[0mrange\u001b[0m\u001b[0;34m(\u001b[0m\u001b[0ma\u001b[0m\u001b[0;34m)\u001b[0m\u001b[0;34m:\u001b[0m\u001b[0;34m\u001b[0m\u001b[0m\n",
      "\u001b[0;31mValueError\u001b[0m: invalid literal for int() with base 10: '2.5'"
     ]
    }
   ],
   "source": [
    "if __name__ =='__main__':\n",
    "    a = int(input())\n",
    "    \n",
    "    if 1<= a <= 20:\n",
    "        for i in range(a):\n",
    "            print(i**2)\n",
    "    else:\n",
    "        print(\"N is out of bounds\")"
   ]
  },
  {
   "cell_type": "markdown",
   "metadata": {},
   "source": [
    "## Write a function\n",
    "\n",
    "In the Gregorian calendar, the years 2000 and 2400 are leap years there are three criteria to be taken into account:\n",
    "* The year can be divided by 4, unless;\n",
    "* The year can be divided by 100, it is NOT a leap year, unless;\n",
    "* The year is also divisible by 400. Then it is a leap year.\n",
    "\n",
    "### Task \n",
    "\n",
    "Take an input year and return whether it it is a leap year or not as a boolean."
   ]
  },
  {
   "cell_type": "code",
   "execution_count": 30,
   "metadata": {
    "collapsed": false
   },
   "outputs": [
    {
     "name": "stdout",
     "output_type": "stream",
     "text": [
      "2000\n",
      "True\n"
     ]
    }
   ],
   "source": [
    "def is_leap(year):\n",
    "    \n",
    "    return (year %4)==0 and (year%100==0 or year%400 ==0)\n",
    "\n",
    "if __name__ == '__main__':\n",
    "    year = int(input())\n",
    "    \n",
    "    print(is_leap(year))"
   ]
  },
  {
   "cell_type": "markdown",
   "metadata": {},
   "source": [
    "Note here that when retunr boolean we can just return using the statements themselves, anything different is verbose."
   ]
  },
  {
   "cell_type": "markdown",
   "metadata": {},
   "source": [
    "## Print function\n",
    "\n",
    "Read an integer, $N$. Without using string methods, try to print all the values $1\\leq i \\leq N$ i.e. $12345 \\dots N$"
   ]
  },
  {
   "cell_type": "code",
   "execution_count": 44,
   "metadata": {
    "collapsed": false
   },
   "outputs": [
    {
     "name": "stdout",
     "output_type": "stream",
     "text": [
      "20\n",
      "1234567891011121314151617181920"
     ]
    }
   ],
   "source": [
    "if __name__ == '__main__':\n",
    "    n = int(input())\n",
    "    \n",
    "    [print(i,end=\"\") for i in range(1,n+1)] # the defualt end is \\n so we need to set this to no char"
   ]
  },
  {
   "cell_type": "markdown",
   "metadata": {},
   "source": [
    "# Strings"
   ]
  },
  {
   "cell_type": "markdown",
   "metadata": {},
   "source": [
    "## Capitalise! \n",
    "\n",
    "Take a string and capitalise each word"
   ]
  },
  {
   "cell_type": "code",
   "execution_count": 72,
   "metadata": {
    "collapsed": false
   },
   "outputs": [
    {
     "name": "stdout",
     "output_type": "stream",
     "text": [
      "\"q w e r t y u i o p a s d f g h j  k l z x c v b n m Q W E R T Y U I O P A S D F G H J  K L Z X C V B N M\"\n",
      "\"q W E R T Y U I O P A S D F G H J  K L Z X C V B N M Q W E R T Y U I O P A S D F G H J  K L Z X C V B N M\"\n"
     ]
    }
   ],
   "source": [
    "def capitalise(string):\n",
    "    \n",
    "    s= [word.capitalize()  for word in string.split(' ')]\n",
    "   \n",
    "    return ' '.join(s)\n",
    "\n",
    "if __name__ == '__main__':\n",
    "    s = input()\n",
    "    print(capitalise(s))"
   ]
  },
  {
   "cell_type": "markdown",
   "metadata": {},
   "source": [
    "## The Minion Game \n",
    "\n",
    "### Game Rules\n",
    "\n",
    "* Both players are given the same string, $S$.\n",
    "* Both players have to make substrings using the letters of the string \n",
    "* Stuart has to make words starting with consonants\n",
    "* Kevin has to make words starting with *Emphasise*\n",
    "* The game ends when both players have made all possible substrings\n",
    "\n",
    "### Scoring\n",
    "\n",
    "* A player gets $+1$ point for each occurence of the substring in the string $S$\n",
    "\n",
    "\n",
    "\n",
    "\n"
   ]
  },
  {
   "cell_type": "code",
   "execution_count": 121,
   "metadata": {
    "collapsed": false
   },
   "outputs": [
    {
     "name": "stdout",
     "output_type": "stream",
     "text": [
      "Hello\n",
      "Stuart 10\n"
     ]
    }
   ],
   "source": [
    "def minion_game(string):\n",
    "    \n",
    "    vowels ='aeoiuAEIOU'\n",
    "    \n",
    "    #Scores\n",
    "    k=0\n",
    "    s=0\n",
    "    \n",
    "    \n",
    "    \n",
    "    #Assign score for each word\n",
    "    for pos in range(len(string)):\n",
    "        \n",
    "        point= len(string) - pos\n",
    "        \n",
    "        if string[pos] in  vowels:\n",
    "            k+=point\n",
    "        else:\n",
    "            s+=point\n",
    "    \n",
    "    \n",
    "    #Winner? \n",
    "    if k>s:\n",
    "        print(\"Kevin\"+\" \"+str(k))\n",
    "    elif k<s:\n",
    "        print(\"Stuart\"+\" \"+str(s))\n",
    "    else: \n",
    "        print(\"Draw\")\n",
    "        \n",
    "if __name__=='__main__':\n",
    "    string = input()\n",
    "    minion_game(string)"
   ]
  },
  {
   "cell_type": "markdown",
   "metadata": {},
   "source": [
    "Interestingly to calculate the scores you can just group all of the substring into their starting letter and then calculate the number of substrings starting with that letter by taking $length - position$"
   ]
  },
  {
   "cell_type": "markdown",
   "metadata": {},
   "source": [
    "## Merge the Tools!"
   ]
  },
  {
   "cell_type": "markdown",
   "metadata": {},
   "source": [
    "* A string, $s$, of length n where $s=c_0c_1 \\dots c_{n-1}$\n",
    "* An integer, $k$, where $k$ is a factor of $n$\n",
    "\n",
    "We can split s into $\\dfrac{n}{k}$ subsequence where each subsegment,$t_i$, consists of a contiguous block of $k$ characters in $s$. Then, useeach $t_i$ to create a string $u_i$ such that:\n",
    "* The characters in $u_i$ are a subsequence of the characters in $t_i$\n",
    "* Any repeat occurrence of a character is removed from the string such that each character in $u_i$ occurs exactly once. In other words, if the character at some index $j$  in $t_i$  occurs at a previous index $<j$  in $t_i$ , then do not include the character in string $u_i$.\n",
    "\n",
    "given $s$ and $k$, print $\\dfrac{n}{k}$ lines where each line $i$ denotes string $u_i$.\n",
    "\n",
    "### Input\n",
    "\n",
    "first line contains a single string, $s$\n",
    "second line an integer $k$\n",
    "\n",
    "### Output\n",
    "Print $\\dfrac{n}{k}$ lines where each line $i$ contains string $u_i$"
   ]
  },
  {
   "cell_type": "code",
   "execution_count": 135,
   "metadata": {
    "collapsed": true
   },
   "outputs": [],
   "source": [
    "def merge_the_tools(string,k):\n",
    "    \n",
    "    parts = [string[i:i+int(len(string)/k)] for i in range(0,len(string),int(len(string)/k))]\n",
    "    \n",
    "    return parts"
   ]
  },
  {
   "cell_type": "code",
   "execution_count": 136,
   "metadata": {
    "collapsed": false
   },
   "outputs": [
    {
     "data": {
      "text/plain": [
       "['hel', 'lop']"
      ]
     },
     "execution_count": 136,
     "metadata": {},
     "output_type": "execute_result"
    }
   ],
   "source": [
    "merge_the_tools(\"hellop\",2)"
   ]
  },
  {
   "cell_type": "code",
   "execution_count": null,
   "metadata": {
    "collapsed": true
   },
   "outputs": [],
   "source": []
  }
 ],
 "metadata": {
  "kernelspec": {
   "display_name": "Python 3",
   "language": "python",
   "name": "python3"
  },
  "language_info": {
   "codemirror_mode": {
    "name": "ipython",
    "version": 3
   },
   "file_extension": ".py",
   "mimetype": "text/x-python",
   "name": "python",
   "nbconvert_exporter": "python",
   "pygments_lexer": "ipython3",
   "version": "3.6.0"
  }
 },
 "nbformat": 4,
 "nbformat_minor": 0
}
