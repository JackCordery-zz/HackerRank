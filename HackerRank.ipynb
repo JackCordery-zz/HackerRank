{
 "cells": [
  {
   "cell_type": "markdown",
   "metadata": {},
   "source": [
    "# Introduction "
   ]
  },
  {
   "cell_type": "markdown",
   "metadata": {},
   "source": [
    "## Python Division\n",
    "Read two integers a,b and output:\n",
    "* /$a//b$ and \n",
    "* $a/b$ \n",
    "\n",
    "on two seperate lines"
   ]
  },
  {
   "cell_type": "code",
   "execution_count": 1,
   "metadata": {
    "collapsed": false
   },
   "outputs": [
    {
     "name": "stdout",
     "output_type": "stream",
     "text": [
      "10\n",
      "10\n",
      "1\n",
      "1.0\n"
     ]
    }
   ],
   "source": [
    "if __name__ == '__main__':\n",
    "    a=int(input())\n",
    "    b=int(input())\n",
    "    \n",
    "    print(str(a//b) + \"\\n\" + str(a/b))"
   ]
  },
  {
   "cell_type": "markdown",
   "metadata": {},
   "source": [
    "## Loops\n",
    "Read an integer $N$ and for all non-negative integers $i < N$, print $i^2$.\n",
    "Do this with the constraint that $1 \\leq N \\leq 20$"
   ]
  },
  {
   "cell_type": "code",
   "execution_count": 11,
   "metadata": {
    "collapsed": false
   },
   "outputs": [
    {
     "name": "stdout",
     "output_type": "stream",
     "text": [
      "2.5\n"
     ]
    },
    {
     "ename": "ValueError",
     "evalue": "invalid literal for int() with base 10: '2.5'",
     "output_type": "error",
     "traceback": [
      "\u001b[0;31m---------------------------------------------------------------------------\u001b[0m",
      "\u001b[0;31mValueError\u001b[0m                                Traceback (most recent call last)",
      "\u001b[0;32m<ipython-input-11-83bdc78dc08b>\u001b[0m in \u001b[0;36m<module>\u001b[0;34m()\u001b[0m\n\u001b[1;32m      1\u001b[0m \u001b[0;32mif\u001b[0m \u001b[0m__name__\u001b[0m \u001b[0;34m==\u001b[0m\u001b[0;34m'__main__'\u001b[0m\u001b[0;34m:\u001b[0m\u001b[0;34m\u001b[0m\u001b[0m\n\u001b[0;32m----> 2\u001b[0;31m     \u001b[0ma\u001b[0m \u001b[0;34m=\u001b[0m \u001b[0mint\u001b[0m\u001b[0;34m(\u001b[0m\u001b[0minput\u001b[0m\u001b[0;34m(\u001b[0m\u001b[0;34m)\u001b[0m\u001b[0;34m)\u001b[0m\u001b[0;34m\u001b[0m\u001b[0m\n\u001b[0m\u001b[1;32m      3\u001b[0m \u001b[0;34m\u001b[0m\u001b[0m\n\u001b[1;32m      4\u001b[0m     \u001b[0;32mif\u001b[0m \u001b[0;36m1\u001b[0m\u001b[0;34m<=\u001b[0m \u001b[0ma\u001b[0m \u001b[0;34m<=\u001b[0m \u001b[0;36m20\u001b[0m\u001b[0;34m:\u001b[0m\u001b[0;34m\u001b[0m\u001b[0m\n\u001b[1;32m      5\u001b[0m         \u001b[0;32mfor\u001b[0m \u001b[0mi\u001b[0m \u001b[0;32min\u001b[0m \u001b[0mrange\u001b[0m\u001b[0;34m(\u001b[0m\u001b[0ma\u001b[0m\u001b[0;34m)\u001b[0m\u001b[0;34m:\u001b[0m\u001b[0;34m\u001b[0m\u001b[0m\n",
      "\u001b[0;31mValueError\u001b[0m: invalid literal for int() with base 10: '2.5'"
     ]
    }
   ],
   "source": [
    "if __name__ =='__main__':\n",
    "    a = int(input())\n",
    "    \n",
    "    if 1<= a <= 20:\n",
    "        for i in range(a):\n",
    "            print(i**2)\n",
    "    else:\n",
    "        print(\"N is out of bounds\")"
   ]
  },
  {
   "cell_type": "markdown",
   "metadata": {},
   "source": [
    "## Write a function\n",
    "\n",
    "In the Gregorian calendar, the years 2000 and 2400 are leap years there are three criteria to be taken into account:\n",
    "* The year can be divided by 4, unless;\n",
    "* The year can be divided by 100, it is NOT a leap year, unless;\n",
    "* The year is also divisible by 400. Then it is a leap year.\n",
    "\n",
    "### Task \n",
    "\n",
    "Take an input year and return whether it it is a leap year or not as a boolean."
   ]
  },
  {
   "cell_type": "code",
   "execution_count": 30,
   "metadata": {
    "collapsed": false
   },
   "outputs": [
    {
     "name": "stdout",
     "output_type": "stream",
     "text": [
      "2000\n",
      "True\n"
     ]
    }
   ],
   "source": [
    "def is_leap(year):\n",
    "    \n",
    "    return (year %4)==0 and (year%100==0 or year%400 ==0)\n",
    "\n",
    "if __name__ == '__main__':\n",
    "    year = int(input())\n",
    "    \n",
    "    print(is_leap(year))"
   ]
  },
  {
   "cell_type": "markdown",
   "metadata": {},
   "source": [
    "Note here that when retunr boolean we can just return using the statements themselves, anything different is verbose."
   ]
  },
  {
   "cell_type": "markdown",
   "metadata": {},
   "source": [
    "## Print function\n",
    "\n",
    "Read an integer, $N$. Without using string methods, try to print all the values $1\\leq i \\leq N$ i.e. $12345 \\dots N$"
   ]
  },
  {
   "cell_type": "code",
   "execution_count": 44,
   "metadata": {
    "collapsed": false
   },
   "outputs": [
    {
     "name": "stdout",
     "output_type": "stream",
     "text": [
      "20\n",
      "1234567891011121314151617181920"
     ]
    }
   ],
   "source": [
    "if __name__ == '__main__':\n",
    "    n = int(input())\n",
    "    \n",
    "    [print(i,end=\"\") for i in range(1,n+1)] # the defualt end is \\n so we need to set this to no char"
   ]
  },
  {
   "cell_type": "markdown",
   "metadata": {},
   "source": [
    "# Basic Data types"
   ]
  },
  {
   "cell_type": "markdown",
   "metadata": {},
   "source": [
    "## Lists \n",
    "\n",
    "Consider a list. You can perform the following commands:\n",
    "1. `insert i e`: Insert intefer $e$ at position $i$\n",
    "2. `print`: Print the list\n",
    "3. `remove e`: Delet the first occurenve of integer $e$.\n",
    "4. `append e`: Insert integer $e$ at the end of the list.\n",
    "5. `Sort`: Sort the list.\n",
    "6. `pop`: Pop the last element from the list.\n",
    "7.`reverse`: Reverse the list\n",
    "\n",
    "Read in $n$ ( the number of commands) followed by the $n$ lines of commands.\n",
    "Output: For each print command print the current list."
   ]
  },
  {
   "cell_type": "code",
   "execution_count": 32,
   "metadata": {
    "collapsed": false
   },
   "outputs": [
    {
     "name": "stdout",
     "output_type": "stream",
     "text": [
      "2\n",
      "insert 0 5\n",
      "print\n",
      "[5]\n"
     ]
    }
   ],
   "source": [
    "if __name__ == '__main__':\n",
    "    N =int(input())\n",
    "    List =[]\n",
    "    for i in range(N):\n",
    "        string=input()\n",
    "        parts=string.split(' ')\n",
    "        \n",
    "        cmd=parts[0]\n",
    "        args= parts[1:]\n",
    "        \n",
    "        args= '(' + ','.join(args) + ')'\n",
    "        \n",
    "        if cmd=='print':\n",
    "            print(List)\n",
    "        else:\n",
    "            eval('List.' + cmd + args)"
   ]
  },
  {
   "cell_type": "markdown",
   "metadata": {},
   "source": [
    "The eval function essentially allows you to run code in string form \n",
    "In addition note that we just do List.cmd instead of List = List.cmd, since it's a method"
   ]
  },
  {
   "cell_type": "markdown",
   "metadata": {},
   "source": [
    "## Tuples\n",
    "\n",
    "Given an integer, $n$, and $n$ space-seperated integers as input, create a tuple, $t$, of those $n$ integers. Then compute and print the result of $hash(t)$\n",
    "\n",
    "_Input_\n",
    "The first line contains $n$ and then the second line contains the integers\n"
   ]
  },
  {
   "cell_type": "code",
   "execution_count": 38,
   "metadata": {
    "collapsed": false
   },
   "outputs": [
    {
     "name": "stdout",
     "output_type": "stream",
     "text": [
      "2\n",
      "1 2\n",
      "3713081631934410656\n"
     ]
    }
   ],
   "source": [
    "if __name__ == '__main__':\n",
    "    n = int(input())\n",
    "    integer_list = map(int, input().split())\n",
    "    t=tuple(integer_list)\n",
    "    print(hash(t))\n"
   ]
  },
  {
   "cell_type": "markdown",
   "metadata": {},
   "source": [
    "## List Comprehensions\n",
    "\n",
    "Given 3 integers $X, Y$ and $Z$ representing the dimensions of a cuboid along with an integer $N$. Print a list of all possible coordinates $(i,j,k)$ on a 3D grid where the sum of $i+j+k \\neq N$"
   ]
  },
  {
   "cell_type": "code",
   "execution_count": 43,
   "metadata": {
    "collapsed": false
   },
   "outputs": [
    {
     "name": "stdout",
     "output_type": "stream",
     "text": [
      "1\n",
      "1\n",
      "1\n",
      "5\n",
      "[[0, 0, 0], [0, 0, 1], [0, 1, 0], [0, 1, 1], [1, 0, 0], [1, 0, 1], [1, 1, 0], [1, 1, 1]]\n"
     ]
    }
   ],
   "source": [
    "if __name__ == '__main__':\n",
    "    x = int(input())\n",
    "    y = int(input())\n",
    "    z = int(input())\n",
    "    n = int(input())\n",
    "    \n",
    "    coords = [[i,j,k] for i in range(x+1)\n",
    "                      for j in range(y+1)\n",
    "                      for k in range(z+1) if i+j+k !=n]\n",
    "    print(coords)\n"
   ]
  },
  {
   "cell_type": "markdown",
   "metadata": {},
   "source": [
    "## Find the second Largest Number\n",
    "\n",
    "Self explanatory "
   ]
  },
  {
   "cell_type": "code",
   "execution_count": 54,
   "metadata": {
    "collapsed": false
   },
   "outputs": [
    {
     "name": "stdout",
     "output_type": "stream",
     "text": [
      "5\n",
      "2 3 6 6 5\n",
      "5\n"
     ]
    }
   ],
   "source": [
    "if __name__ == '__main__':\n",
    "    n = int(input())\n",
    "    arr = map(int,input().split())\n",
    "    arr=list(arr)\n",
    "    m = max(arr)\n",
    "    idx = [i for i,j in enumerate(arr) if j==m]\n",
    "    for i in sorted(idx, reverse=True):\n",
    "        del arr[i]\n",
    "    \n",
    "    print(max(arr))"
   ]
  },
  {
   "cell_type": "markdown",
   "metadata": {},
   "source": [
    "note enumerate reutrns {idx: entry}\n",
    "\n",
    "Another, simpler way of doing this (probably not much more efficient is to use set as follows:"
   ]
  },
  {
   "cell_type": "code",
   "execution_count": 55,
   "metadata": {
    "collapsed": false
   },
   "outputs": [
    {
     "name": "stdout",
     "output_type": "stream",
     "text": [
      "5\n",
      "2 3 6 6 5\n",
      "5\n"
     ]
    }
   ],
   "source": [
    "if __name__ == '__main__':\n",
    "    n = int(input())\n",
    "    arr = list(map(int,input().split()))\n",
    "    \n",
    "    m= max(arr)\n",
    "    \n",
    "    arr=sorted(set(arr), reverse=True)\n",
    "    \n",
    "    print(arr[1])\n",
    "    \n",
    "    \n",
    "    "
   ]
  },
  {
   "cell_type": "markdown",
   "metadata": {},
   "source": [
    "## Nested Lists \n",
    "\n",
    "Given the names and grades for each student in a Physics Class of $N$ students, sotre them in a nested list and print the name(s) having the second lowest grade. Order their name alphabetically and print them on a new line.\n",
    "\n",
    "Input: N then Name \\n Grade \\n \n",
    "\n"
   ]
  },
  {
   "cell_type": "code",
   "execution_count": 73,
   "metadata": {
    "collapsed": false
   },
   "outputs": [
    {
     "name": "stdout",
     "output_type": "stream",
     "text": [
      "3\n",
      "A\n",
      "10\n",
      "B\n",
      "10\n",
      "C\n",
      "20\n",
      "[['C', 20.0]]\n",
      "C\n"
     ]
    }
   ],
   "source": [
    "if __name__ == '__main__':\n",
    "    l=[]\n",
    "    for _ in range(int(input())):\n",
    "        name = input()\n",
    "        score = float(input())\n",
    "        l.append([name,score])\n",
    "    \n",
    "    scores = [s[1] for s in l]\n",
    "    m = min(scores)\n",
    "    \n",
    "    idx = [i for i,j in enumerate(scores) if j==m]\n",
    "    \n",
    "    for i in sorted(idx,reverse=True):\n",
    "        del l[i]\n",
    "        del scores[i]\n",
    "    \n",
    "    if scores == []:\n",
    "        print('No second lowest')\n",
    "    else:\n",
    "        m=min(scores)\n",
    "    \n",
    "        idx = [i for i,j in enumerate(scores) if j==m]\n",
    "    \n",
    "        out = [l[i] for i in idx]\n",
    "    \n",
    "        out = sorted(out)\n",
    "        \n",
    "        for entry in out:\n",
    "            print(entry[0])\n",
    "    "
   ]
  },
  {
   "cell_type": "markdown",
   "metadata": {},
   "source": [
    "A more pythonic way of doing this is:"
   ]
  },
  {
   "cell_type": "code",
   "execution_count": 79,
   "metadata": {
    "collapsed": false
   },
   "outputs": [
    {
     "name": "stdout",
     "output_type": "stream",
     "text": [
      "3\n",
      "A\n",
      "10\n",
      "B\n",
      "10\n",
      "C\n",
      "9\n",
      "A\n",
      "B\n"
     ]
    }
   ],
   "source": [
    "if __name__ == '__main__':\n",
    "   \n",
    "    marksheet = [[input(), float(input())] for _ in range(int(input()))] \n",
    "    \n",
    "    second_highest = sorted(list(set(marks for name, marks in marksheet)))[1]\n",
    "    \n",
    "    print('\\n'.join([a for a,b in sorted(marksheet) if b== second_highest]))"
   ]
  },
  {
   "cell_type": "markdown",
   "metadata": {},
   "source": [
    "## Finding the percentage\n",
    "\n",
    "You have a record of N students and their grades in Maths, Physics and Chemistry. \n",
    "SAve the inputted entries intoa dictionary. The user can then enter the student's name and recieve their average score."
   ]
  },
  {
   "cell_type": "code",
   "execution_count": 80,
   "metadata": {
    "collapsed": false
   },
   "outputs": [
    {
     "name": "stdout",
     "output_type": "stream",
     "text": [
      "1\n",
      "James 10 20 30.5\n",
      "James\n",
      "20.17\n"
     ]
    }
   ],
   "source": [
    "\n",
    "if __name__ == '__main__':\n",
    "    n = int(input())\n",
    "    student_marks = {}\n",
    "    for _ in range(n):\n",
    "        name, *line = input().split()\n",
    "        scores = list(map(float, line))\n",
    "        student_marks[name] = scores\n",
    "    query_name = input()\n",
    "\n",
    "    print('{0:.2f}'.format(sum(student_marks[query_name])/len(student_marks[query_name])))\n",
    "    "
   ]
  },
  {
   "cell_type": "markdown",
   "metadata": {},
   "source": [
    "# Strings"
   ]
  },
  {
   "cell_type": "markdown",
   "metadata": {},
   "source": [
    "## sWAP cASE\n",
    "\n",
    "Given a string $S$, swap all of the cases of the characters "
   ]
  },
  {
   "cell_type": "code",
   "execution_count": 85,
   "metadata": {
    "collapsed": false
   },
   "outputs": [
    {
     "name": "stdout",
     "output_type": "stream",
     "text": [
      "Hello World\n",
      "hELLO wORLD\n"
     ]
    }
   ],
   "source": [
    "def swap_case(s):\n",
    "    \n",
    "    return ''.join([i.lower() if i.isupper() else i.upper() for i in s])\n",
    "\n",
    "if __name__ =='__main__':\n",
    "    S = input()\n",
    "    \n",
    "    print(swap_case(S))"
   ]
  },
  {
   "cell_type": "markdown",
   "metadata": {},
   "source": [
    "## String Split and Join\n",
    "\n",
    "Givena string, replace all the spaces with hyphens"
   ]
  },
  {
   "cell_type": "code",
   "execution_count": 87,
   "metadata": {
    "collapsed": false
   },
   "outputs": [
    {
     "name": "stdout",
     "output_type": "stream",
     "text": [
      "HEllo world  a a    \n",
      "HEllo-world--a-a----\n"
     ]
    }
   ],
   "source": [
    "def split_and_join(s):\n",
    "    return s.replace(' ','-')\n",
    "\n",
    "if __name__=='__main__':\n",
    "    print ( split_and_join(input()))"
   ]
  },
  {
   "cell_type": "markdown",
   "metadata": {},
   "source": [
    "## What's Your Name? \n",
    "\n",
    "Given a firstname and last name of a person on two different lines, read them and print them into the form 'Hello `firstname` `lastname`! You just delved into python.'"
   ]
  },
  {
   "cell_type": "code",
   "execution_count": 90,
   "metadata": {
    "collapsed": false
   },
   "outputs": [
    {
     "name": "stdout",
     "output_type": "stream",
     "text": [
      "JAck \n",
      "Cordery\n",
      "Hello JAck  Cordery! You just delved into python.\n"
     ]
    }
   ],
   "source": [
    "def print_full_name(first_name,last_name):\n",
    "    print('Hello {0} {1}! You just delved into python.'.format(first_name,last_name) )\n",
    "\n",
    "if __name__ == '__main__':\n",
    "    first_name =input()\n",
    "    last_name=input()\n",
    "    print_full_name(first_name,last_name)\n",
    "    "
   ]
  },
  {
   "cell_type": "markdown",
   "metadata": {},
   "source": [
    "## Mutations\n",
    "\n",
    "Given string change the character at a given index and then print the modified string"
   ]
  },
  {
   "cell_type": "code",
   "execution_count": 94,
   "metadata": {
    "collapsed": false
   },
   "outputs": [
    {
     "name": "stdout",
     "output_type": "stream",
     "text": [
      "HEll\n",
      "3 P\n",
      "HElP\n"
     ]
    }
   ],
   "source": [
    "def mutate_string(string,position,character):\n",
    "    \n",
    "    return(string[:position]+character+string[position+1:])\n",
    "if __name__ =='__main__':\n",
    "    string =input()\n",
    "    pos, char = input().split(' ')\n",
    "    print(mutate_string(string,int(pos),char))\n",
    "    "
   ]
  },
  {
   "cell_type": "markdown",
   "metadata": {},
   "source": [
    "## Find a string \n",
    "\n",
    "User inputs a string, $S$, and a substring, $s$. We need to print the number of times $s$ appears in $S$"
   ]
  },
  {
   "cell_type": "code",
   "execution_count": 108,
   "metadata": {
    "collapsed": false
   },
   "outputs": [
    {
     "name": "stdout",
     "output_type": "stream",
     "text": [
      "Hello\n",
      "el\n",
      "1\n"
     ]
    }
   ],
   "source": [
    "def count_substring(string,sub_string):\n",
    "    search_length=len(sub_string)\n",
    "    count = [1 for i in range(len(string)-search_length+1) if\n",
    "            sub_string == string[i:i+search_length]]\n",
    "    return sum(count)\n",
    "    \n",
    "if __name__ == '__main__':\n",
    "    string = input()\n",
    "    sub_string = input()\n",
    "    \n",
    "    count = count_substring(string,sub_string)\n",
    "    print(count)\n",
    "        \n",
    "        "
   ]
  },
  {
   "cell_type": "markdown",
   "metadata": {},
   "source": [
    "## String Validators \n",
    "\n",
    "Python can check if a string is composed of alphabetical char, alphanumeric char, digits, etc.\n",
    "\n",
    "Task: Given a string, $S$ find out if the string contsins: alphanumeric, alphabetical, digits, lower case, uppercase all on new lines."
   ]
  },
  {
   "cell_type": "code",
   "execution_count": 121,
   "metadata": {
    "collapsed": false
   },
   "outputs": [
    {
     "name": "stdout",
     "output_type": "stream",
     "text": [
      "hello9\n",
      "True\n",
      "True\n",
      "True\n",
      "True\n",
      "False\n"
     ]
    }
   ],
   "source": [
    "if __name__ == '__main__':\n",
    "    s=input()\n",
    "    \n",
    "    print(any([c.isalnum() for c in s]))\n",
    "    print(any([c.isalpha() for c in s]))\n",
    "    print(any([c.isdigit() for c in s]))\n",
    "    print(any([c.islower() for c in s]))\n",
    "    print(any([c.isupper() for c in s]))"
   ]
  },
  {
   "cell_type": "markdown",
   "metadata": {},
   "source": [
    "Here I learnt about the `any` function. `any` is essentially a logical `or` on an iterable. An equivalent exists for `and`: `all`"
   ]
  },
  {
   "cell_type": "markdown",
   "metadata": {},
   "source": [
    "## Text Alignment\n",
    "\n",
    "In python we can align text using `ljust(), center(), rjust()`.\n",
    "Task is to create the HackerRanks logo. \n"
   ]
  },
  {
   "cell_type": "code",
   "execution_count": 143,
   "metadata": {
    "collapsed": false
   },
   "outputs": [
    {
     "name": "stdout",
     "output_type": "stream",
     "text": [
      "5\n",
      "    H    \n",
      "   HHH   \n",
      "  HHHHH  \n",
      " HHHHHHH \n",
      "HHHHHHHHH\n",
      "  HHHHH               HHHHH             \n",
      "  HHHHH               HHHHH             \n",
      "  HHHHH               HHHHH             \n",
      "  HHHHH               HHHHH             \n",
      "  HHHHH               HHHHH             \n",
      "  HHHHH               HHHHH             \n",
      "  HHHHHHHHHHHHHHHHHHHHHHHHH   \n",
      "  HHHHHHHHHHHHHHHHHHHHHHHHH   \n",
      "  HHHHHHHHHHHHHHHHHHHHHHHHH   \n",
      "  HHHHH               HHHHH             \n",
      "  HHHHH               HHHHH             \n",
      "  HHHHH               HHHHH             \n",
      "  HHHHH               HHHHH             \n",
      "  HHHHH               HHHHH             \n",
      "  HHHHH               HHHHH             \n",
      "                    HHHHHHHHH \n",
      "                     HHHHHHH  \n",
      "                      HHHHH   \n",
      "                       HHH    \n",
      "                        H     \n"
     ]
    }
   ],
   "source": [
    "\n",
    "if __name__ =='__main__':\n",
    "    thickness = int(input()) #This must be an odd number\n",
    "    \n",
    "    c = 'H'\n",
    "\n",
    "    #Top Cone\n",
    "    for i in range(thickness):\n",
    "        print((c*i).rjust(thickness-1)+c+(c*i).ljust(thickness-1))\n",
    "\n",
    "    #Top Pillars\n",
    "    for i in range(thickness+1):\n",
    "        print((c*thickness).center(thickness*2)+(c*thickness).center(thickness*6))\n",
    "\n",
    "    #Middle Belt\n",
    "    for i in range((thickness+1)//2):\n",
    "        print((c*thickness*5).center(thickness*6))    \n",
    "\n",
    "    #Bottom Pillars\n",
    "    for i in range(thickness+1):\n",
    "        print((c*thickness).center(thickness*2)+(c*thickness).center(thickness*6))    \n",
    "\n",
    "    #Bottom Cone\n",
    "    for i in range(thickness):\n",
    "        \n",
    "        print(((c*(thickness-i-1)).rjust(thickness)+c+(c*(thickness-i-1)).ljust(thickness)).rjust(thickness*6))  \n",
    "        \n",
    "        \n",
    "        "
   ]
  },
  {
   "cell_type": "markdown",
   "metadata": {},
   "source": [
    "Need to go back and understand this properly"
   ]
  },
  {
   "cell_type": "markdown",
   "metadata": {},
   "source": [
    "## Text Wrap\n",
    "Given a string, $S$, and width, $w$, wrap the string using the `textwrap` module.\n"
   ]
  },
  {
   "cell_type": "code",
   "execution_count": 144,
   "metadata": {
    "collapsed": false
   },
   "outputs": [
    {
     "name": "stdout",
     "output_type": "stream",
     "text": [
      "ABCDEFGHIJKLMNOPQESTUVWYXZ\n",
      "4\n",
      "ABCD\n",
      "EFGH\n",
      "IJKL\n",
      "MNOP\n",
      "QEST\n",
      "UVWY\n",
      "XZ\n"
     ]
    }
   ],
   "source": [
    "import textwrap\n",
    "\n",
    "def wrap(string,max_width):\n",
    "    return textwrap.fill(string,max_width)\n",
    "\n",
    "if __name__=='__main__':\n",
    "    string =input()\n",
    "    max_width =int(input())\n",
    "    \n",
    "    print(wrap(string,max_width))"
   ]
  },
  {
   "cell_type": "markdown",
   "metadata": {},
   "source": [
    "## Capitalise! \n",
    "\n",
    "Take a string and capitalise each word"
   ]
  },
  {
   "cell_type": "code",
   "execution_count": 72,
   "metadata": {
    "collapsed": false
   },
   "outputs": [
    {
     "name": "stdout",
     "output_type": "stream",
     "text": [
      "\"q w e r t y u i o p a s d f g h j  k l z x c v b n m Q W E R T Y U I O P A S D F G H J  K L Z X C V B N M\"\n",
      "\"q W E R T Y U I O P A S D F G H J  K L Z X C V B N M Q W E R T Y U I O P A S D F G H J  K L Z X C V B N M\"\n"
     ]
    }
   ],
   "source": [
    "def capitalise(string):\n",
    "    \n",
    "    s= [word.capitalize()  for word in string.split(' ')]\n",
    "   \n",
    "    return ' '.join(s)\n",
    "\n",
    "if __name__ == '__main__':\n",
    "    s = input()\n",
    "    print(capitalise(s))"
   ]
  },
  {
   "cell_type": "markdown",
   "metadata": {},
   "source": [
    "## The Minion Game \n",
    "\n",
    "### Game Rules\n",
    "\n",
    "* Both players are given the same string, $S$.\n",
    "* Both players have to make substrings using the letters of the string \n",
    "* Stuart has to make words starting with consonants\n",
    "* Kevin has to make words starting with *Emphasise*\n",
    "* The game ends when both players have made all possible substrings\n",
    "\n",
    "### Scoring\n",
    "\n",
    "* A player gets $+1$ point for each occurence of the substring in the string $S$\n",
    "\n",
    "\n",
    "\n",
    "\n"
   ]
  },
  {
   "cell_type": "code",
   "execution_count": 121,
   "metadata": {
    "collapsed": false
   },
   "outputs": [
    {
     "name": "stdout",
     "output_type": "stream",
     "text": [
      "Hello\n",
      "Stuart 10\n"
     ]
    }
   ],
   "source": [
    "def minion_game(string):\n",
    "    \n",
    "    vowels ='aeoiuAEIOU'\n",
    "    \n",
    "    #Scores\n",
    "    k=0\n",
    "    s=0\n",
    "    \n",
    "    \n",
    "    \n",
    "    #Assign score for each word\n",
    "    for pos in range(len(string)):\n",
    "        \n",
    "        point= len(string) - pos\n",
    "        \n",
    "        if string[pos] in  vowels:\n",
    "            k+=point\n",
    "        else:\n",
    "            s+=point\n",
    "    \n",
    "    \n",
    "    #Winner? \n",
    "    if k>s:\n",
    "        print(\"Kevin\"+\" \"+str(k))\n",
    "    elif k<s:\n",
    "        print(\"Stuart\"+\" \"+str(s))\n",
    "    else: \n",
    "        print(\"Draw\")\n",
    "        \n",
    "if __name__=='__main__':\n",
    "    string = input()\n",
    "    minion_game(string)"
   ]
  },
  {
   "cell_type": "markdown",
   "metadata": {},
   "source": [
    "Interestingly to calculate the scores you can just group all of the substring into their starting letter and then calculate the number of substrings starting with that letter by taking $length - position$"
   ]
  },
  {
   "cell_type": "markdown",
   "metadata": {},
   "source": [
    "## Merge the Tools!"
   ]
  },
  {
   "cell_type": "markdown",
   "metadata": {},
   "source": [
    "* A string, $s$, of length n where $s=c_0c_1 \\dots c_{n-1}$\n",
    "* An integer, $k$, where $k$ is a factor of $n$\n",
    "\n",
    "We can split s into $\\dfrac{n}{k}$ subsequence where each subsegment,$t_i$, consists of a contiguous block of $k$ characters in $s$. Then, useeach $t_i$ to create a string $u_i$ such that:\n",
    "* The characters in $u_i$ are a subsequence of the characters in $t_i$\n",
    "* Any repeat occurrence of a character is removed from the string such that each character in $u_i$ occurs exactly once. In other words, if the character at some index $j$  in $t_i$  occurs at a previous index $<j$  in $t_i$ , then do not include the character in string $u_i$.\n",
    "\n",
    "given $s$ and $k$, print $\\dfrac{n}{k}$ lines where each line $i$ denotes string $u_i$.\n",
    "\n",
    "### Input\n",
    "\n",
    "first line contains a single string, $s$\n",
    "second line an integer $k$\n",
    "\n",
    "### Output\n",
    "Print $\\dfrac{n}{k}$ lines where each line $i$ contains string $u_i$"
   ]
  },
  {
   "cell_type": "code",
   "execution_count": 135,
   "metadata": {
    "collapsed": true
   },
   "outputs": [],
   "source": [
    "def merge_the_tools(string,k):\n",
    "    \n",
    "    parts = [string[i:i+int(len(string)/k)] for i in range(0,len(string),int(len(string)/k))]\n",
    "    \n",
    "    return parts"
   ]
  },
  {
   "cell_type": "code",
   "execution_count": 136,
   "metadata": {
    "collapsed": false
   },
   "outputs": [
    {
     "data": {
      "text/plain": [
       "['hel', 'lop']"
      ]
     },
     "execution_count": 136,
     "metadata": {},
     "output_type": "execute_result"
    }
   ],
   "source": [
    "merge_the_tools(\"hellop\",2)"
   ]
  },
  {
   "cell_type": "code",
   "execution_count": null,
   "metadata": {
    "collapsed": true
   },
   "outputs": [],
   "source": []
  }
 ],
 "metadata": {
  "kernelspec": {
   "display_name": "Python 3",
   "language": "python",
   "name": "python3"
  },
  "language_info": {
   "codemirror_mode": {
    "name": "ipython",
    "version": 3
   },
   "file_extension": ".py",
   "mimetype": "text/x-python",
   "name": "python",
   "nbconvert_exporter": "python",
   "pygments_lexer": "ipython3",
   "version": "3.6.0"
  }
 },
 "nbformat": 4,
 "nbformat_minor": 0
}
